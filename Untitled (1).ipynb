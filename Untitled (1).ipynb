{
 "cells": [
  {
   "cell_type": "code",
   "execution_count": 137,
   "id": "4eac5e6a-8875-43a0-b903-c09c32d76fbf",
   "metadata": {},
   "outputs": [],
   "source": [
    "import numpy as np\n",
    "import tensorflow as tf\n",
    "import matplotlib.pyplot as plt"
   ]
  },
  {
   "cell_type": "code",
   "execution_count": 143,
   "id": "ace8411b-467b-414e-9f5f-d2afb7ca84e6",
   "metadata": {
    "tags": []
   },
   "outputs": [
    {
     "ename": "AttributeError",
     "evalue": "module 'keras.datasets' has no attribute 'stl10'",
     "output_type": "error",
     "traceback": [
      "\u001b[1;31m---------------------------------------------------------------------------\u001b[0m",
      "\u001b[1;31mAttributeError\u001b[0m                            Traceback (most recent call last)",
      "Cell \u001b[1;32mIn[143], line 17\u001b[0m\n\u001b[0;32m     14\u001b[0m     \u001b[38;5;28;01mreturn\u001b[39;00m flipped_images, flipped_labels\n\u001b[0;32m     16\u001b[0m \u001b[38;5;66;03m# Load dataset\u001b[39;00m\n\u001b[1;32m---> 17\u001b[0m fashion_mnist \u001b[38;5;241m=\u001b[39m tf\u001b[38;5;241m.\u001b[39mkeras\u001b[38;5;241m.\u001b[39mdatasets\u001b[38;5;241m.\u001b[39mstl10\n\u001b[0;32m     18\u001b[0m (train_images, train_labels), (test_images, test_labels) \u001b[38;5;241m=\u001b[39m stl10\u001b[38;5;241m.\u001b[39mload_data()\n\u001b[0;32m     20\u001b[0m \u001b[38;5;66;03m# Select n images to flip\u001b[39;00m\n",
      "\u001b[1;31mAttributeError\u001b[0m: module 'keras.datasets' has no attribute 'stl10'"
     ]
    }
   ],
   "source": [
    "# Define function to randomly flip images\n",
    "def random_flipped_img(images, labels, num_flips):\n",
    "    random_choice = np.random.choice(len(images), num_flips, replace=False)\n",
    "    flipped_images = []\n",
    "    flipped_labels = []\n",
    "    for i, (img,label) in enumerate(zip(images,labels)):\n",
    "        if i in random_choice:\n",
    "            flipped_img = np.flip(img, axis=0)\n",
    "            flipped_images.append(flipped_img)\n",
    "            flipped_labels.append(1) # 1 for flip\n",
    "        else:\n",
    "            flipped_images.append(img)\n",
    "            flipped_labels.append(0) # 0 for not flip\n",
    "    return flipped_images, flipped_labels\n",
    "\n",
    "# Load dataset\n",
    "fashion_mnist = tf.keras.datasets.fashion_mnist\n",
    "(train_images, train_labels), (test_images, test_labels) = fashion_mnist.load_data()\n",
    "\n",
    "# Select n images to flip\n",
    "num_flips = 3\n",
    "# new array include fliped and unfliped images\n",
    "new_images, new_labels = random_flipped_img(train_images[:10], train_labels[:10], num_flips)\n",
    "\n",
    "plt.figure(figsize=(20, 4))\n",
    "for i, img in enumerate(train_images[:10]):\n",
    "    plt.subplot(1, 10, i + 1)\n",
    "    plt.imshow(img, cmap='gray')\n",
    "    plt.axis('off')\n",
    "    plt.title(f'Label: {int(train_labels[i])}')\n",
    "plt.figure(figsize=(20, 4))\n",
    "for i, (img, label) in enumerate(zip(new_images,new_labels)):\n",
    "    plt.subplot(1, 10, i + 1)\n",
    "    plt.imshow(img, cmap='gray')\n",
    "    plt.axis('off')\n",
    "    plt.title(f'Label: {int(label)}')\n",
    "    \n",
    "\n",
    "\n",
    "\n"
   ]
  },
  {
   "cell_type": "code",
   "execution_count": 139,
   "id": "2af8abb6-cdca-4201-9302-a4e1a0a85bb5",
   "metadata": {},
   "outputs": [
    {
     "name": "stdout",
     "output_type": "stream",
     "text": [
      "Epoch 1/10\n",
      "\u001b[1m1/1\u001b[0m \u001b[32m━━━━━━━━━━━━━━━━━━━━\u001b[0m\u001b[37m\u001b[0m \u001b[1m1s\u001b[0m 1s/step - accuracy: 0.0000e+00 - loss: 2.4287 - val_accuracy: 0.1012 - val_loss: 2.4913\n",
      "Epoch 2/10\n",
      "\u001b[1m1/1\u001b[0m \u001b[32m━━━━━━━━━━━━━━━━━━━━\u001b[0m\u001b[37m\u001b[0m \u001b[1m1s\u001b[0m 520ms/step - accuracy: 0.6000 - loss: 1.4401 - val_accuracy: 0.0998 - val_loss: 2.9315\n",
      "Epoch 3/10\n",
      "\u001b[1m1/1\u001b[0m \u001b[32m━━━━━━━━━━━━━━━━━━━━\u001b[0m\u001b[37m\u001b[0m \u001b[1m1s\u001b[0m 577ms/step - accuracy: 0.9000 - loss: 0.9863 - val_accuracy: 0.1000 - val_loss: 3.4492\n",
      "Epoch 4/10\n",
      "\u001b[1m1/1\u001b[0m \u001b[32m━━━━━━━━━━━━━━━━━━━━\u001b[0m\u001b[37m\u001b[0m \u001b[1m1s\u001b[0m 511ms/step - accuracy: 0.9000 - loss: 0.7551 - val_accuracy: 0.1000 - val_loss: 3.9140\n",
      "Epoch 5/10\n",
      "\u001b[1m1/1\u001b[0m \u001b[32m━━━━━━━━━━━━━━━━━━━━\u001b[0m\u001b[37m\u001b[0m \u001b[1m1s\u001b[0m 547ms/step - accuracy: 0.9000 - loss: 0.5800 - val_accuracy: 0.0999 - val_loss: 4.3054\n",
      "Epoch 6/10\n",
      "\u001b[1m1/1\u001b[0m \u001b[32m━━━━━━━━━━━━━━━━━━━━\u001b[0m\u001b[37m\u001b[0m \u001b[1m0s\u001b[0m 488ms/step - accuracy: 0.9000 - loss: 0.4355 - val_accuracy: 0.0993 - val_loss: 4.6540\n",
      "Epoch 7/10\n",
      "\u001b[1m1/1\u001b[0m \u001b[32m━━━━━━━━━━━━━━━━━━━━\u001b[0m\u001b[37m\u001b[0m \u001b[1m0s\u001b[0m 461ms/step - accuracy: 0.9000 - loss: 0.3302 - val_accuracy: 0.0979 - val_loss: 4.9967\n",
      "Epoch 8/10\n",
      "\u001b[1m1/1\u001b[0m \u001b[32m━━━━━━━━━━━━━━━━━━━━\u001b[0m\u001b[37m\u001b[0m \u001b[1m1s\u001b[0m 527ms/step - accuracy: 1.0000 - loss: 0.2630 - val_accuracy: 0.0964 - val_loss: 5.3644\n",
      "Epoch 9/10\n",
      "\u001b[1m1/1\u001b[0m \u001b[32m━━━━━━━━━━━━━━━━━━━━\u001b[0m\u001b[37m\u001b[0m \u001b[1m0s\u001b[0m 497ms/step - accuracy: 1.0000 - loss: 0.2216 - val_accuracy: 0.0957 - val_loss: 5.7580\n",
      "Epoch 10/10\n",
      "\u001b[1m1/1\u001b[0m \u001b[32m━━━━━━━━━━━━━━━━━━━━\u001b[0m\u001b[37m\u001b[0m \u001b[1m1s\u001b[0m 548ms/step - accuracy: 1.0000 - loss: 0.1854 - val_accuracy: 0.0965 - val_loss: 6.1728\n"
     ]
    }
   ],
   "source": [
    "# Convert to numpy arrays\n",
    "new_images = np.array(new_images)\n",
    "new_labels = np.array(new_labels)\n",
    "\n",
    "new_images = new_images / 255\n",
    "test_images = test_images / 255\n",
    "\n",
    "# Define model\n",
    "model = tf.keras.Sequential([\n",
    "    tf.keras.Input(shape=(28, 28)),\n",
    "    tf.keras.layers.Flatten(),\n",
    "    tf.keras.layers.Dense(128, activation='relu'),\n",
    "    tf.keras.layers.Dense(10, activation='softmax')\n",
    "])\n",
    "\n",
    "# Compile model\n",
    "model.compile(optimizer='adam',\n",
    "              loss='sparse_categorical_crossentropy',\n",
    "              metrics=['accuracy']\n",
    "             )\n",
    "# Train model\n",
    "tm = model.fit(\n",
    "    new_images, \n",
    "    new_labels, \n",
    "    epochs=10, \n",
    "    validation_data=(test_images, test_labels)\n",
    ")\n"
   ]
  },
  {
   "cell_type": "code",
   "execution_count": 140,
   "id": "34ce4f21-2498-4e6a-8ecc-984667129ca2",
   "metadata": {},
   "outputs": [
    {
     "name": "stdout",
     "output_type": "stream",
     "text": [
      "\u001b[1m1/1\u001b[0m \u001b[32m━━━━━━━━━━━━━━━━━━━━\u001b[0m\u001b[37m\u001b[0m \u001b[1m0s\u001b[0m 60ms/step\n",
      "\u001b[1m1/1\u001b[0m \u001b[32m━━━━━━━━━━━━━━━━━━━━\u001b[0m\u001b[37m\u001b[0m \u001b[1m0s\u001b[0m 18ms/step\n",
      "\u001b[1m1/1\u001b[0m \u001b[32m━━━━━━━━━━━━━━━━━━━━\u001b[0m\u001b[37m\u001b[0m \u001b[1m0s\u001b[0m 20ms/step\n",
      "Predicted labels of images: [0, 1, 0]\n"
     ]
    }
   ],
   "source": [
    "# Make predictions on n test images\n",
    "num_images_to_predict = 3\n",
    "predicted_labels = []\n",
    "\n",
    "for i in range(num_images_to_predict):\n",
    "    # Make prediction on a single image\n",
    "    prediction = model.predict(np.expand_dims(new_images[i], axis=0))\n",
    "    # Get the index of the highest probability prediction\n",
    "    predicted_label = np.argmax(prediction)\n",
    "    predicted_labels.append(predicted_label)\n",
    "\n",
    "print(\"Predicted labels of images:\", predicted_labels)"
   ]
  },
  {
   "cell_type": "code",
   "execution_count": null,
   "id": "85d7f2c7-d2ba-48b9-aeea-2fd133df7ed0",
   "metadata": {},
   "outputs": [],
   "source": []
  },
  {
   "cell_type": "code",
   "execution_count": null,
   "id": "96838e63-5faf-4716-889e-8b428b90864c",
   "metadata": {},
   "outputs": [],
   "source": []
  },
  {
   "cell_type": "code",
   "execution_count": null,
   "id": "75b8d12c-7074-4e34-90e2-e50df88d3779",
   "metadata": {
    "tags": []
   },
   "outputs": [],
   "source": []
  }
 ],
 "metadata": {
  "kernelspec": {
   "display_name": "Python 3 (ipykernel)",
   "language": "python",
   "name": "python3"
  },
  "language_info": {
   "codemirror_mode": {
    "name": "ipython",
    "version": 3
   },
   "file_extension": ".py",
   "mimetype": "text/x-python",
   "name": "python",
   "nbconvert_exporter": "python",
   "pygments_lexer": "ipython3",
   "version": "3.11.5"
  }
 },
 "nbformat": 4,
 "nbformat_minor": 5
}
